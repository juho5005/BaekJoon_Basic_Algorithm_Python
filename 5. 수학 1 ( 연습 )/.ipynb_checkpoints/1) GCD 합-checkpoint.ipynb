{
 "cells": [
  {
   "cell_type": "markdown",
   "id": "9c142a9b",
   "metadata": {},
   "source": [
    "## itertools를 사용하여 조합을 사용한 방식"
   ]
  },
  {
   "cell_type": "code",
   "execution_count": null,
   "id": "0d1d36fc",
   "metadata": {},
   "outputs": [],
   "source": [
    "from itertools import combinations \n",
    "import sys \n",
    "import math\n",
    "\n",
    "t = int(sys.stdin.readline())\n",
    "\n",
    "for _ in range(t) :\n",
    "    nums = list(map(int, sys.stdin.readline().split()))\n",
    "    lst_nums = nums[1:]\n",
    "\n",
    "    result = 0\n",
    "    \n",
    "    for elem in combinations(lst_nums, 2) :\n",
    "        result += math.gcd(elem[0], elem[1])\n",
    "    print(result)\n",
    "    "
   ]
  },
  {
   "cell_type": "markdown",
   "id": "232cad2c",
   "metadata": {},
   "source": [
    "## 이중 반복문을 사용하여 두가지 경우를 묶은 경우"
   ]
  },
  {
   "cell_type": "code",
   "execution_count": null,
   "id": "59d28070",
   "metadata": {},
   "outputs": [],
   "source": [
    "import sys \n",
    "import math\n",
    "\n",
    "t = int(sys.stdin.readline())\n",
    "\n",
    "for _ in range(t) :\n",
    "    nums = list(map(int, sys.stdin.readline().split()))\n",
    "    lst_nums = nums[1:]\n",
    "\n",
    "    result = 0\n",
    "    \n",
    "    for i in range(1, len(nums)) :\n",
    "        for j in range(i+1, len(nums)) :\n",
    "            result += math.gcd(nums[i], nums[j])\n",
    "    print(result)\n"
   ]
  },
  {
   "cell_type": "code",
   "execution_count": null,
   "id": "9001f941",
   "metadata": {},
   "outputs": [],
   "source": [
    "import sys \n",
    "import math\n",
    "\n",
    "t = int(sys.stdin.readline())\n",
    "\n",
    "def g_c_d(a, b) :\n",
    "\n",
    "    while b !=0  :\n",
    "        a, b = b, a % b\n",
    "    return a \n",
    "\n",
    "\n",
    "for _ in range(t) :\n",
    "    nums = list(map(int, sys.stdin.readline().split()))\n",
    "    lst_nums = nums[1:]\n",
    "\n",
    "    result = 0\n",
    "    \n",
    "    for i in range(1, len(nums)) :\n",
    "        for j in range(i+1, len(nums)) :\n",
    "            result += g_c_d(nums[i], nums[j])\n",
    "    print(result)\n"
   ]
  }
 ],
 "metadata": {
  "kernelspec": {
   "display_name": "Python 3",
   "language": "python",
   "name": "python3"
  },
  "language_info": {
   "codemirror_mode": {
    "name": "ipython",
    "version": 3
   },
   "file_extension": ".py",
   "mimetype": "text/x-python",
   "name": "python",
   "nbconvert_exporter": "python",
   "pygments_lexer": "ipython3",
   "version": "3.8.8"
  }
 },
 "nbformat": 4,
 "nbformat_minor": 5
}
