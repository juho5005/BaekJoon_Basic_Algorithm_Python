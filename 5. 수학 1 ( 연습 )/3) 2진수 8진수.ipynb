{
 "cells": [
  {
   "cell_type": "markdown",
   "id": "8f1bb162",
   "metadata": {},
   "source": [
    "## 2진수 -> 8진수를 직접 변환할 때\n",
    "2진수를 8진수로 바꾸는 방식 참고 : https://www.notion.so/2-8-10-16-3fff249e282e40f3a3c5b6a373a3a41b\n"
   ]
  },
  {
   "cell_type": "code",
   "execution_count": null,
   "id": "aae5e73e",
   "metadata": {},
   "outputs": [],
   "source": [
    "# 2진수 8진수\n",
    "import sys \n",
    "num = list(sys.stdin.readline().rstrip())\n",
    "l = len(num)\n",
    "\n",
    "remainder = l % 3 \n",
    "\n",
    "if remainder == 1 :\n",
    "    num = [0] + [0] + num\n",
    "elif remainder == 2 :\n",
    "    num = [0] + num\n",
    "\n",
    "i = 0\n",
    "result = []\n",
    "while i < l :\n",
    "    val = (int(num[i]) * 4) + (int(num[i+1]) * 2) + (int(num[i+2]) * 1)\n",
    "    result.append(val)\n",
    "    i += 3\n",
    "\n",
    "print(\"\".join(str(i) for i in result))"
   ]
  },
  {
   "cell_type": "markdown",
   "id": "3d8c3c0a",
   "metadata": {},
   "source": [
    "## 파이썬 내장함수를 이용할 때\n",
    "개념 : https://www.notion.so/2-8-16-90ea1067d5194792b9dbbe813117cd29"
   ]
  },
  {
   "cell_type": "code",
   "execution_count": null,
   "id": "bcd966d8",
   "metadata": {},
   "outputs": [],
   "source": [
    "import sys \n",
    "\n",
    "n = int(sys.stdin.readline(), 2)\n",
    "print(oct(n)[2:])"
   ]
  },
  {
   "cell_type": "markdown",
   "id": "55aef51b",
   "metadata": {},
   "source": [
    "## 문자열 인덱싱을 사용하지 않고, 앞의 접두어를 없애는 방식"
   ]
  },
  {
   "cell_type": "code",
   "execution_count": null,
   "id": "6705bdcd",
   "metadata": {},
   "outputs": [],
   "source": [
    "import sys \n",
    "\n",
    "n = int(sys.stdin.readline(), 2)\n",
    "print(format(n, 'o'))"
   ]
  }
 ],
 "metadata": {
  "kernelspec": {
   "display_name": "Python 3",
   "language": "python",
   "name": "python3"
  },
  "language_info": {
   "codemirror_mode": {
    "name": "ipython",
    "version": 3
   },
   "file_extension": ".py",
   "mimetype": "text/x-python",
   "name": "python",
   "nbconvert_exporter": "python",
   "pygments_lexer": "ipython3",
   "version": "3.8.8"
  }
 },
 "nbformat": 4,
 "nbformat_minor": 5
}
