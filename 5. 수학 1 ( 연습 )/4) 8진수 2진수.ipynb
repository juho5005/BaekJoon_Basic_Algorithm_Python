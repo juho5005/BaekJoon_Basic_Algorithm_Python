{
 "cells": [
  {
   "cell_type": "markdown",
   "id": "84fe134c",
   "metadata": {},
   "source": [
    "## 진법 변환을 사용 "
   ]
  },
  {
   "cell_type": "code",
   "execution_count": null,
   "id": "fa3d80c1",
   "metadata": {},
   "outputs": [],
   "source": [
    "import sys \n",
    "\n",
    "n = int(sys.stdin.readline(), 8)\n",
    "\n",
    "print(bin(n)[2:])"
   ]
  }
 ],
 "metadata": {
  "kernelspec": {
   "display_name": "Python 3",
   "language": "python",
   "name": "python3"
  },
  "language_info": {
   "codemirror_mode": {
    "name": "ipython",
    "version": 3
   },
   "file_extension": ".py",
   "mimetype": "text/x-python",
   "name": "python",
   "nbconvert_exporter": "python",
   "pygments_lexer": "ipython3",
   "version": "3.8.8"
  }
 },
 "nbformat": 4,
 "nbformat_minor": 5
}
