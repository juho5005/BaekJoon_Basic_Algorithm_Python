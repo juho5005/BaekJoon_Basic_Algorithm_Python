{
 "cells": [
  {
   "cell_type": "markdown",
   "id": "2ad65d64",
   "metadata": {},
   "source": [
    "## 시간복잡도를 고려해야하는 문제였다"
   ]
  },
  {
   "cell_type": "code",
   "execution_count": null,
   "id": "f53839b5",
   "metadata": {},
   "outputs": [],
   "source": [
    "import sys \n",
    "import math\n",
    "# 1 <= n <= 100,000\n",
    "# O(N), O(NlogN), O(logN), O(1)\n",
    "\n",
    "n, s = tuple(map(int, sys.stdin.readline().split()))\n",
    "pos = list(map(int, sys.stdin.readline().split()))\n",
    "\n",
    "lst = []\n",
    "for i in range(n) :\n",
    "    lst.append(abs(s-pos[i]))\n",
    "\n",
    "if len(lst) == 1 :\n",
    "    print(lst[0])\n",
    "\n",
    "else :\n",
    "    # 초기값\n",
    "    a = lst[0]\n",
    "\n",
    "    for i in range(1, len(lst)) :\n",
    "        a = math.gcd(a, lst[i])\n",
    "    print(a)"
   ]
  }
 ],
 "metadata": {
  "kernelspec": {
   "display_name": "Python 3",
   "language": "python",
   "name": "python3"
  },
  "language_info": {
   "codemirror_mode": {
    "name": "ipython",
    "version": 3
   },
   "file_extension": ".py",
   "mimetype": "text/x-python",
   "name": "python",
   "nbconvert_exporter": "python",
   "pygments_lexer": "ipython3",
   "version": "3.8.8"
  }
 },
 "nbformat": 4,
 "nbformat_minor": 5
}
