{
 "cells": [
  {
   "cell_type": "markdown",
   "id": "190a0512",
   "metadata": {},
   "source": [
    "문제 풀이 : https://www.notion.so/2089-2-d12e2a7c0d5b420e93d8c17ad5379526"
   ]
  },
  {
   "cell_type": "code",
   "execution_count": null,
   "id": "6832d478",
   "metadata": {},
   "outputs": [],
   "source": [
    "import sys \n",
    "n = int(sys.stdin.readline())\n",
    "\n",
    "if n == 0 :\n",
    "    sys.stdout.write('0')\n",
    "    sys.exit()\n",
    "\n",
    "\n",
    "res = \"\"\n",
    "while n != 1: # 몫이 1이 됐을 때 종료\n",
    "\n",
    "    if n % -2 :\n",
    "        res = '1' + res\n",
    "        n = n//-2 + 1 # ex) -13/-2 = 6.5이므로, -13//-2 = 6이므로 \n",
    "                # 몫을 구해주기 위해서는 +1해서 나머지가 양수가 되도록 해야한다.\n",
    "    \n",
    "    else :\n",
    "        res = '0' + res\n",
    "        n = n//-2\n",
    "\n",
    "res = '1' + res # 몫 부분인 1을 res에 추가한다.\n",
    "sys.stdout.write(res)"
   ]
  }
 ],
 "metadata": {
  "kernelspec": {
   "display_name": "Python 3",
   "language": "python",
   "name": "python3"
  },
  "language_info": {
   "codemirror_mode": {
    "name": "ipython",
    "version": 3
   },
   "file_extension": ".py",
   "mimetype": "text/x-python",
   "name": "python",
   "nbconvert_exporter": "python",
   "pygments_lexer": "ipython3",
   "version": "3.8.8"
  }
 },
 "nbformat": 4,
 "nbformat_minor": 5
}
