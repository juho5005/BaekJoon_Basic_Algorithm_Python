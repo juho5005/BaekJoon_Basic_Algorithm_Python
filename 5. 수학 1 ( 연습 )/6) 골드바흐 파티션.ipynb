{
 "cells": [
  {
   "cell_type": "markdown",
   "id": "1c1af723",
   "metadata": {},
   "source": [
    "python3으로 제출하면 시간초과가 발생하여 pypy3로 제출하여 통과시키고 끝내었다."
   ]
  },
  {
   "cell_type": "code",
   "execution_count": null,
   "id": "7d26c110",
   "metadata": {},
   "outputs": [],
   "source": [
    "import sys\n",
    "import math\n",
    "t = int(sys.stdin.readline())\n",
    "\n",
    "N = 1000000\n",
    "eratos = [\n",
    "    True \n",
    "    for _ in range(N+1)\n",
    "]\n",
    "# 0과 1은 소수 X\n",
    "eratos[0] = False \n",
    "eratos[1] = False \n",
    "\n",
    "for i in range(2, int(math.sqrt(N)) + 1) :\n",
    "    if eratos[i] :\n",
    "        j = 2\n",
    "\n",
    "        while i * j <= N :\n",
    "            eratos[i*j] = False \n",
    "            j += 1\n",
    "\n",
    "for _ in range(t) :\n",
    "    n = int(sys.stdin.readline())\n",
    "    \n",
    "    cnt = 0\n",
    "    x = 2\n",
    "    y = n-2\n",
    "\n",
    "    while y >= n//2 :\n",
    "        if eratos[x] and eratos[y] :\n",
    "            cnt += 1\n",
    "        y -= 1\n",
    "        x += 1\n",
    "    \n",
    "    print(cnt)\n",
    "    \n"
   ]
  }
 ],
 "metadata": {
  "kernelspec": {
   "display_name": "Python 3",
   "language": "python",
   "name": "python3"
  },
  "language_info": {
   "codemirror_mode": {
    "name": "ipython",
    "version": 3
   },
   "file_extension": ".py",
   "mimetype": "text/x-python",
   "name": "python",
   "nbconvert_exporter": "python",
   "pygments_lexer": "ipython3",
   "version": "3.8.8"
  }
 },
 "nbformat": 4,
 "nbformat_minor": 5
}
