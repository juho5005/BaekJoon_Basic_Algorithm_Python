{
 "cells": [
  {
   "cell_type": "code",
   "execution_count": null,
   "id": "7b1b0e53",
   "metadata": {},
   "outputs": [],
   "source": [
    "# 문장에서 단어를 모두 뒤집어서 출력하는 프로그램\n",
    "# 단어의 순서는 변화X, 단어는 영어 알파벳으로만 구성\n",
    "\n",
    "import sys \n",
    "t = int(sys.stdin.readline())\n",
    "\n",
    "sentences = [\n",
    "    sys.stdin.readline().strip().split()\n",
    "    for _ in range(t)\n",
    "]\n",
    "\n",
    "for sentence in sentences : \n",
    "    for elem in sentence : \n",
    "        rev_elem = elem[::-1]\n",
    "        print(rev_elem, end =' ')\n",
    "    print()"
   ]
  }
 ],
 "metadata": {
  "kernelspec": {
   "display_name": "Python 3",
   "language": "python",
   "name": "python3"
  },
  "language_info": {
   "codemirror_mode": {
    "name": "ipython",
    "version": 3
   },
   "file_extension": ".py",
   "mimetype": "text/x-python",
   "name": "python",
   "nbconvert_exporter": "python",
   "pygments_lexer": "ipython3",
   "version": "3.8.8"
  }
 },
 "nbformat": 4,
 "nbformat_minor": 5
}
