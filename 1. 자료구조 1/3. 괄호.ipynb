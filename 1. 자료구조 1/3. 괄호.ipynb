{
 "cells": [
  {
   "cell_type": "markdown",
   "id": "197323ea",
   "metadata": {},
   "source": [
    "# 스택을 구현한 풀이"
   ]
  },
  {
   "cell_type": "code",
   "execution_count": null,
   "id": "0cb7478f",
   "metadata": {},
   "outputs": [],
   "source": [
    "# 괄호 문자열 (Parenthesis Stirng) => '(', ')'로 구성\n",
    "# 옳바른 괄호 문자열 (Valid Parenthesis String) 을 판별하기\n",
    "\n",
    "import sys \n",
    "t = int(sys.stdin.readline())\n",
    "\n",
    "parenthesis = [\n",
    "    sys.stdin.readline().strip()\n",
    "    for _ in range(t)\n",
    "]\n",
    "\n",
    "class Stack :\n",
    "    def __init__(self) :\n",
    "        self.items = []\n",
    "\n",
    "    def push(self, item) :\n",
    "        self.items.append(item)\n",
    "    \n",
    "    def pop(self) :\n",
    "        return self.items.pop()\n",
    "\n",
    "    def empty(self) :\n",
    "        return not self.items \n",
    "\n",
    "    def size(self) :\n",
    "        return len(self.items)\n",
    "\n",
    "\n",
    "for p in parenthesis : \n",
    "    finished = False\n",
    "    stack = Stack()\n",
    "    for s in p : \n",
    "        if s == '(' :\n",
    "            stack.push(s)\n",
    "        else : \n",
    "            if stack.empty() : \n",
    "                print(\"NO\")\n",
    "                finished = True\n",
    "                break\n",
    "            stack.pop()\n",
    "        \n",
    "    if not finished : \n",
    "        if stack.empty() :\n",
    "            print(\"YES\")\n",
    "        else :\n",
    "            print(\"NO\")"
   ]
  },
  {
   "cell_type": "markdown",
   "id": "586362f5",
   "metadata": {},
   "source": [
    "스택을 구현하지 않고 스택 정의를 사용한 풀이"
   ]
  },
  {
   "cell_type": "code",
   "execution_count": null,
   "id": "5f0c4142",
   "metadata": {},
   "outputs": [],
   "source": [
    "# 괄호 문자열 (Parenthesis Stirng) => '(', ')'로 구성\n",
    "# 옳바른 괄호 문자열 (Valid Parenthesis String) 을 판별하기\n",
    "import sys \n",
    "t = int(sys.stdin.readline())\n",
    "\n",
    "parenthesis = [\n",
    "    sys.stdin.readline().strip()\n",
    "    for _ in range(t)\n",
    "]\n",
    "\n",
    "for p in parenthesis : \n",
    "    num = 0\n",
    "    checking = True\n",
    "    for s in p : \n",
    "        if s == '(' :\n",
    "            num += 1\n",
    "        elif s == ')' :\n",
    "            num -= 1\n",
    "        \n",
    "        if num < 0 : \n",
    "            print(\"NO\")\n",
    "            checking = False\n",
    "            break\n",
    "    \n",
    "    if checking :\n",
    "        if num != 0 :\n",
    "            print(\"NO\")\n",
    "        else :\n",
    "            print(\"YES\")"
   ]
  }
 ],
 "metadata": {
  "kernelspec": {
   "display_name": "Python 3",
   "language": "python",
   "name": "python3"
  },
  "language_info": {
   "codemirror_mode": {
    "name": "ipython",
    "version": 3
   },
   "file_extension": ".py",
   "mimetype": "text/x-python",
   "name": "python",
   "nbconvert_exporter": "python",
   "pygments_lexer": "ipython3",
   "version": "3.8.8"
  }
 },
 "nbformat": 4,
 "nbformat_minor": 5
}
