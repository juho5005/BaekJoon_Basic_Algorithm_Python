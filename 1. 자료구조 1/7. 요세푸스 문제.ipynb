{
 "cells": [
  {
   "cell_type": "markdown",
   "id": "06faebf2",
   "metadata": {},
   "source": [
    "# 정석으로 큐를 class로 구현하여 풀이한 방식\n",
    "## Python으로 제출하면 시간초과 발생\n",
    "## pypy3로 제출하면 시간 초과가 발생하지 않는다 .\n",
    "\n",
    "### Python은 시간 효율보다는   메모리 효율이 좋다.\n",
    "### pypy3는  메모리 효율보다는   시간  효율이 좋다.\n",
    "\n"
   ]
  },
  {
   "cell_type": "code",
   "execution_count": null,
   "id": "4f662c8c",
   "metadata": {},
   "outputs": [],
   "source": [
    "# 요세푸스 문제\n",
    "\n",
    "# 1번 ~ N번이 원을 이루면서 앉어있고, \n",
    "# 양의 정수 K가 주어진 후 순서대로 K번 사람을 제거\n",
    "# 남은 사람들로 이루어진 원을 따라 이 과정을 계속한다.\n",
    "\n",
    "# 원에서 사람들이 제거되는 순서를 (N, K) - 요세푸스 순열\n",
    "# ex) (7, 3) => 3 6 2 7 5 1 4\n",
    "\n",
    "from collections import deque \n",
    "import sys \n",
    "\n",
    "n, k = tuple(map(int, sys.stdin.readline().split()))\n",
    "class Queue :\n",
    "    def __init__(self) :\n",
    "        self.dq = deque()\n",
    "    \n",
    "    def push(self, item) :\n",
    "        self.dq.append(item)\n",
    "    \n",
    "    def pop(self) :\n",
    "        return self.dq.popleft()\n",
    "    \n",
    "    def empty(self) :\n",
    "        return not self.dq\n",
    "\n",
    "q = Queue()\n",
    "ans = []\n",
    "\n",
    "for i in range(1, n+1) :\n",
    "    q.push(i)\n",
    "\n",
    "while not q.empty() :\n",
    "    for _ in range(k-1) :\n",
    "        q.push(q.pop())\n",
    "    ans.append(q.pop())\n",
    "\n",
    "print(\"<\" + \", \".join(str(i) for i in ans) + \">\")"
   ]
  },
  {
   "cell_type": "markdown",
   "id": "313e55ed",
   "metadata": {},
   "source": [
    "# class 객체로 큐를 구현하지 않고 그냥 deque만을 사용하여 풀이한 방식 \n",
    "## 이 방식은 python으로 제출해도 시간초과에 걸리지 않는다."
   ]
  },
  {
   "cell_type": "code",
   "execution_count": null,
   "id": "b3110060",
   "metadata": {},
   "outputs": [],
   "source": [
    "from collections import deque \n",
    "import sys\n",
    "\n",
    "n, k = tuple(map(int, sys.stdin.readline().split()))\n",
    "q = deque(\n",
    "    i\n",
    "    for i in range(1, n+1)\n",
    ")\n",
    "\n",
    "ans = []\n",
    "while q : \n",
    "    for _ in range(k-1) :\n",
    "        q.append(q.popleft())\n",
    "    ans.append(q.popleft())\n",
    "\n",
    "print(\"<\" + \", \".join(str(i) for i in ans) + \">\")"
   ]
  }
 ],
 "metadata": {
  "kernelspec": {
   "display_name": "Python 3",
   "language": "python",
   "name": "python3"
  },
  "language_info": {
   "codemirror_mode": {
    "name": "ipython",
    "version": 3
   },
   "file_extension": ".py",
   "mimetype": "text/x-python",
   "name": "python",
   "nbconvert_exporter": "python",
   "pygments_lexer": "ipython3",
   "version": "3.8.8"
  }
 },
 "nbformat": 4,
 "nbformat_minor": 5
}
