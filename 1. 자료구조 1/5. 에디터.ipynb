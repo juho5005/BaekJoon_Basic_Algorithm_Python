{
 "cells": [
  {
   "cell_type": "markdown",
   "id": "b69530ef",
   "metadata": {},
   "source": [
    "# 시간초과를 고려하지 않고 문제를 해결했을 때\n",
    "## 정답은 도출되지만, 시간초과 발생\n"
   ]
  },
  {
   "cell_type": "code",
   "execution_count": null,
   "id": "e18c2fcc",
   "metadata": {},
   "outputs": [],
   "source": [
    "# 에디터 구현 (영어 소문자만을 기록)\n",
    "# 편집기에는 '커서' 존재 \n",
    "import sys \n",
    "s = list(sys.stdin.readline().strip())\n",
    "l = len(s) \n",
    "\n",
    "# 명령어의 개수, 명령어\n",
    "m = int(sys.stdin.readline())\n",
    "orders = [\n",
    "    tuple(sys.stdin.readline().split())\n",
    "    for _ in range(m)\n",
    "]\n",
    "\n",
    "# 커서의 초기 위치 : 문장의 맨뒤에 위치 (l + 1)\n",
    "cursor_pos = l\n",
    "\n",
    "for order in orders : \n",
    "    if order[0] == 'L' :\n",
    "        if cursor_pos == 0 :\n",
    "            continue \n",
    "        cursor_pos -= 1\n",
    "\n",
    "    elif order[0] == 'D' :\n",
    "        if cursor_pos == l :\n",
    "            continue \n",
    "        cursor_pos += 1\n",
    "\n",
    "    elif order[0] == 'B' :\n",
    "        if cursor_pos == 0 :\n",
    "            continue \n",
    "\n",
    "        s = s[:cursor_pos-1] + s[cursor_pos:]\n",
    "        cursor_pos -= 1\n",
    "\n",
    "    else :\n",
    "        s = s[:cursor_pos] + [order[1]] + s[cursor_pos:]\n",
    "        cursor_pos += 1\n",
    "\n",
    "for elem in s :\n",
    "    print(elem, end ='')"
   ]
  },
  {
   "cell_type": "markdown",
   "id": "2844efe4",
   "metadata": {},
   "source": [
    "# 시간초과를 고려하여 Stack 을 사용했을 때"
   ]
  },
  {
   "cell_type": "code",
   "execution_count": null,
   "id": "1f8c5d09",
   "metadata": {},
   "outputs": [],
   "source": [
    "import sys \n",
    "# 영어 소문자로만 이루어진, 문자열 \n",
    "s = sys.stdin.readline().strip()\n",
    "\n",
    "# 명렁어의 개수, 명령어\n",
    "m = int(sys.stdin.readline())\n",
    "orders = [\n",
    "    tuple(sys.stdin.readline().strip().split())\n",
    "    for _ in range(m)\n",
    "]\n",
    "\n",
    "# '커서를 기준으로' lstack, rstack 생성\n",
    "lstack = list(s)\n",
    "rstack = []\n",
    "\n",
    "# 각각의 명령어들 역할 분담\n",
    "for order in orders :\n",
    "    if order[0] == 'L' :\n",
    "        # lstack이 비어있는 스택이 아니라면, \n",
    "        if lstack :\n",
    "            rstack.append(lstack.pop())\n",
    "        else :\n",
    "            continue \n",
    "    \n",
    "    elif order[0] == 'D' :\n",
    "        # rstack이 비어있는 스택이 아니라면,\n",
    "        if rstack : \n",
    "            lstack.append(rstack.pop())\n",
    "        else :\n",
    "            continue\n",
    "    \n",
    "    elif order[0] == 'B' :\n",
    "        # lstack이 비어있는 스택이 아니라면,\n",
    "        if lstack :\n",
    "            lstack.pop()\n",
    "        else :\n",
    "            continue\n",
    "    \n",
    "    else :\n",
    "        lstack.append(order[1])\n",
    "\n",
    "\n",
    "# 'L' 명령일 때, rstack으로 처음 입력된 문자들이 \"반대순\"으로 쌓이기 때문에\n",
    "# lstack과 rstack의 뒤집은 값을 합쳐야 한다.\n",
    "# 리스트끼리 합쳐주는 Extend 함수 사용!\n",
    "lstack.extend(rstack[::-1])\n",
    "\n",
    "# 리스트를 문자열로 바꿔주는 join함수 사용\n",
    "print(\"\".join(lstack))"
   ]
  }
 ],
 "metadata": {
  "kernelspec": {
   "display_name": "Python 3",
   "language": "python",
   "name": "python3"
  },
  "language_info": {
   "codemirror_mode": {
    "name": "ipython",
    "version": 3
   },
   "file_extension": ".py",
   "mimetype": "text/x-python",
   "name": "python",
   "nbconvert_exporter": "python",
   "pygments_lexer": "ipython3",
   "version": "3.8.8"
  }
 },
 "nbformat": 4,
 "nbformat_minor": 5
}
