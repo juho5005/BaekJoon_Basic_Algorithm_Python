{
 "cells": [
  {
   "cell_type": "markdown",
   "id": "f07ee4b1",
   "metadata": {},
   "source": [
    "# 큐 구현 "
   ]
  },
  {
   "cell_type": "code",
   "execution_count": null,
   "id": "87064304",
   "metadata": {},
   "outputs": [],
   "source": [
    "from collections import deque\n",
    "import sys \n",
    "n = int(sys.stdin.readline())\n",
    "orders = [\n",
    "    tuple(sys.stdin.readline().strip().split())\n",
    "    for _ in range(n)\n",
    "]\n",
    "\n",
    "class Queue :\n",
    "    def __init__(self) :\n",
    "        self.dq = deque()\n",
    "\n",
    "    def push(self, item) :\n",
    "        self.dq.append(item)\n",
    "    \n",
    "    def pop(self) :\n",
    "        if not self.dq :\n",
    "            return -1\n",
    "        return self.dq.popleft()\n",
    "\n",
    "    def size(self) :\n",
    "        return len(self.dq)\n",
    "\n",
    "    def empty(self) :\n",
    "        if self.dq :\n",
    "            return 0\n",
    "        else :\n",
    "            return 1\n",
    "    \n",
    "    def front(self) :\n",
    "        if not self.dq :\n",
    "            return -1\n",
    "        return self.dq[0]\n",
    "    \n",
    "    def back(self) :\n",
    "        if not self.dq :\n",
    "            return -1\n",
    "        return self.dq[-1]\n",
    "\n",
    "q = Queue()\n",
    "\n",
    "for order in orders : \n",
    "    if order[0] == 'push' :\n",
    "        q.push(int(order[1]))\n",
    "    elif order[0] == 'pop' :\n",
    "        print(q.pop())\n",
    "    elif order[0] == 'size' :\n",
    "        print(q.size())\n",
    "    elif order[0] == 'empty' :\n",
    "        print(q.empty())\n",
    "    elif order[0] == 'front' :\n",
    "        print(q.front())\n",
    "    else :\n",
    "        print(q.back())\n",
    "    "
   ]
  }
 ],
 "metadata": {
  "kernelspec": {
   "display_name": "Python 3",
   "language": "python",
   "name": "python3"
  },
  "language_info": {
   "codemirror_mode": {
    "name": "ipython",
    "version": 3
   },
   "file_extension": ".py",
   "mimetype": "text/x-python",
   "name": "python",
   "nbconvert_exporter": "python",
   "pygments_lexer": "ipython3",
   "version": "3.8.8"
  }
 },
 "nbformat": 4,
 "nbformat_minor": 5
}
