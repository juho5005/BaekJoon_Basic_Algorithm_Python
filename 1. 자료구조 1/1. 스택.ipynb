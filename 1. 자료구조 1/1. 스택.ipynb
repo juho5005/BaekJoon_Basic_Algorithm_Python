{
 "cells": [
  {
   "cell_type": "code",
   "execution_count": null,
   "id": "4cb4f20c",
   "metadata": {},
   "outputs": [],
   "source": [
    "# 스택\n",
    "\n",
    "# push X : 정수 X를 스택에 넣는 연산\n",
    "# pop    : 스택에서 가장 위에 있는 정수를 빼고, 그 수를  출력한다\n",
    "#        : 만약 스택에 들어 있는 정수가 없는 경우는 -1 출력\n",
    "# size   : 스택에 들어있는 정수의 개수를 출력한다.\n",
    "# empty  : 스택이 비어있으면 1, 아니면 0 출력\n",
    "# top    : 스택의 가장 위에 있는 정수 출력, 만약 스택에 들어 있는 정수가 없는 경우는 -1 출력\n",
    "\n",
    "import sys \n",
    "n = int(sys.stdin.readline())\n",
    "\n",
    "orders = [\n",
    "    sys.stdin.readline().strip().split()\n",
    "    for _ in range(n)\n",
    "]\n",
    "\n",
    "class Stack :\n",
    "    def __init__(self) :\n",
    "        self.items = []\n",
    "    def push(self, item) :\n",
    "        self.items.append(item)\n",
    "    def pop(self) :\n",
    "        if self.empty() == 1 :\n",
    "            return -1\n",
    "        return self.items.pop()\n",
    "    def size(self) :\n",
    "        return len(self.items) \n",
    "    def empty(self) :\n",
    "        if self.items : \n",
    "            return 0\n",
    "        else :\n",
    "            return 1\n",
    "    def top(self) :\n",
    "        if self.empty() == 1 :\n",
    "            return -1\n",
    "        return self.items[-1]\n",
    "\n",
    "s = Stack()\n",
    "\n",
    "for order in orders : \n",
    "    if order[0] == 'push' :\n",
    "        s.push(int(order[1]))\n",
    "    elif order[0] == 'pop' :\n",
    "        print(s.pop())\n",
    "    elif order[0] == 'size' :\n",
    "        print(s.size())\n",
    "    elif order[0] == 'empty' :\n",
    "        print(s.empty())\n",
    "    else :\n",
    "        print(s.top())"
   ]
  }
 ],
 "metadata": {
  "kernelspec": {
   "display_name": "Python 3",
   "language": "python",
   "name": "python3"
  },
  "language_info": {
   "codemirror_mode": {
    "name": "ipython",
    "version": 3
   },
   "file_extension": ".py",
   "mimetype": "text/x-python",
   "name": "python",
   "nbconvert_exporter": "python",
   "pygments_lexer": "ipython3",
   "version": "3.8.8"
  }
 },
 "nbformat": 4,
 "nbformat_minor": 5
}
