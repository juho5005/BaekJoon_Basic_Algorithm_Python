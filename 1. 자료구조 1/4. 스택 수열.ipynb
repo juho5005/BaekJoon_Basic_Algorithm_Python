{
 "cells": [
  {
   "cell_type": "markdown",
   "id": "a9e2a7c6",
   "metadata": {},
   "source": [
    "# 스택 수열 "
   ]
  },
  {
   "cell_type": "code",
   "execution_count": null,
   "id": "df154a53",
   "metadata": {},
   "outputs": [],
   "source": [
    "import sys \n",
    "n = int(sys.stdin.readline())\n",
    "nums = [\n",
    "    int(sys.stdin.readline())\n",
    "    for _ in range(n)\n",
    "]\n",
    "\n",
    "count = 1\n",
    "stack = []\n",
    "result = []\n",
    "\n",
    "need_check = True\n",
    "for num in nums :\n",
    "    while count <= num :\n",
    "        stack.append(count)\n",
    "        result.append('+')\n",
    "        count += 1\n",
    "    \n",
    "    if stack[-1] == num : \n",
    "        stack.pop()\n",
    "        result.append('-')\n",
    "    else : \n",
    "        need_check = False \n",
    "        break\n",
    "\n",
    "if need_check :\n",
    "    for elem in result : \n",
    "        print(elem)\n",
    "else :\n",
    "    print(\"NO\")"
   ]
  }
 ],
 "metadata": {
  "kernelspec": {
   "display_name": "Python 3",
   "language": "python",
   "name": "python3"
  },
  "language_info": {
   "codemirror_mode": {
    "name": "ipython",
    "version": 3
   },
   "file_extension": ".py",
   "mimetype": "text/x-python",
   "name": "python",
   "nbconvert_exporter": "python",
   "pygments_lexer": "ipython3",
   "version": "3.8.8"
  }
 },
 "nbformat": 4,
 "nbformat_minor": 5
}
