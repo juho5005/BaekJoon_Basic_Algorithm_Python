{
 "cells": [
  {
   "cell_type": "markdown",
   "id": "8bea16a3",
   "metadata": {},
   "source": [
    "# 스택을 사용\n",
    "문제 정리 : https://www.notion.so/17298-751b395f637d4eb6b2979544c3965506"
   ]
  },
  {
   "cell_type": "code",
   "execution_count": null,
   "id": "7f6d3f5b",
   "metadata": {},
   "outputs": [],
   "source": [
    "from collections import deque \n",
    "import sys \n",
    "\n",
    "n = int(sys.stdin.readline())\n",
    "nums = list(map(int, sys.stdin.readline().split()))\n",
    "\n",
    "# 인덱스를 삽입할 stack 생성\n",
    "dq = deque()\n",
    "\n",
    "# -1로 초기화한 정답을 출력할 ans 생성\n",
    "ans = [-1] * n \n",
    "\n",
    "dq.append(0)\n",
    "for i in range(1, n) :\n",
    "    while dq and nums[dq[-1]] < nums[i] :\n",
    "        ans[dq.pop()] = nums[i]\n",
    "    dq.append(i)\n",
    "\n",
    "print(*ans)"
   ]
  }
 ],
 "metadata": {
  "kernelspec": {
   "display_name": "Python 3",
   "language": "python",
   "name": "python3"
  },
  "language_info": {
   "codemirror_mode": {
    "name": "ipython",
    "version": 3
   },
   "file_extension": ".py",
   "mimetype": "text/x-python",
   "name": "python",
   "nbconvert_exporter": "python",
   "pygments_lexer": "ipython3",
   "version": "3.8.8"
  }
 },
 "nbformat": 4,
 "nbformat_minor": 5
}
