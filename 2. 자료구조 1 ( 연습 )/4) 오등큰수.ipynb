{
 "cells": [
  {
   "cell_type": "markdown",
   "id": "ac55f0b8",
   "metadata": {},
   "source": [
    "# Counter 모듈 사용 풀이 \n",
    "- 문제 정리 : https://www.notion.so/17299-4544d948834b44dbb7d24201b07ee083"
   ]
  },
  {
   "cell_type": "code",
   "execution_count": null,
   "id": "1551c699",
   "metadata": {},
   "outputs": [],
   "source": [
    "from collections import Counter\n",
    "import sys \n",
    "n = int(sys.stdin.readline())\n",
    "# 1 <= N <= 1,000,000 O(N)\n",
    "nums = list(map(int, sys.stdin.readline().split()))\n",
    "\n",
    "nums_count = Counter(nums)\n",
    "\n",
    "# idx를 넣을 스택 생성\n",
    "stack = []\n",
    "ans = [-1] * n\n",
    "\n",
    "stack.append(0)\n",
    "for i in range(1, n) :\n",
    "    while stack and nums_count[nums[stack[-1]]] < \\\n",
    "        nums_count[nums[i]] :\n",
    "        ans[stack.pop()] = nums[i]\n",
    "    stack.append(i)\n",
    "\n",
    "print(*ans)"
   ]
  },
  {
   "cell_type": "markdown",
   "id": "aef27ae6",
   "metadata": {},
   "source": [
    "# dict 사용 풀이 "
   ]
  },
  {
   "cell_type": "code",
   "execution_count": null,
   "id": "76d3c2f4",
   "metadata": {},
   "outputs": [],
   "source": [
    "import sys \n",
    "n = int(sys.stdin.readline())\n",
    "# 1 <= N <= 1,000,000 O(N)\n",
    "nums = list(map(int, sys.stdin.readline().split()))\n",
    "\n",
    "dict = {}\n",
    "\n",
    "for elem in nums :\n",
    "    if elem not in dict :\n",
    "        dict[elem] = 1\n",
    "    else :\n",
    "        dict[elem] += 1\n",
    "\n",
    "# idx를 넣을 스택 생성\n",
    "stack = []\n",
    "ans = [-1] * n\n",
    "\n",
    "stack.append(0)\n",
    "for i in range(1, n) :\n",
    "    while stack and dict[nums[stack[-1]]] < dict[nums[i]] :\n",
    "        ans[stack.pop()] = nums[i]\n",
    "    stack.append(i)\n",
    "\n",
    "print(*ans)"
   ]
  }
 ],
 "metadata": {
  "kernelspec": {
   "display_name": "Python 3",
   "language": "python",
   "name": "python3"
  },
  "language_info": {
   "codemirror_mode": {
    "name": "ipython",
    "version": 3
   },
   "file_extension": ".py",
   "mimetype": "text/x-python",
   "name": "python",
   "nbconvert_exporter": "python",
   "pygments_lexer": "ipython3",
   "version": "3.8.8"
  }
 },
 "nbformat": 4,
 "nbformat_minor": 5
}
