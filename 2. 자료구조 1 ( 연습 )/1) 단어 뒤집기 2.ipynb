{
 "cells": [
  {
   "cell_type": "markdown",
   "id": "23e06e9c",
   "metadata": {},
   "source": [
    "# 각각의 문자열에 대해서 인덱스로 접근하여 확인\n",
    "## '<' ~ '>' 인 단어의 리스트를 따로 꺼내서 뒤집어서 다시 대입\n",
    "## 나머지 문자열들은 그대로 둔다."
   ]
  },
  {
   "cell_type": "markdown",
   "id": "ff42618a",
   "metadata": {},
   "source": [
    "# - 문제 정리\n",
    "https://www.notion.so/17413-2-b775fca1fc64402fb6a23f615f2f20df"
   ]
  },
  {
   "cell_type": "code",
   "execution_count": null,
   "id": "334cd386",
   "metadata": {},
   "outputs": [],
   "source": [
    "import sys \n",
    "s = list(sys.stdin.readline().strip())\n",
    "\n",
    "# 모든 문자열을 하나하나 따져보기 위하여 인덱스 개념으로 접근한다.\n",
    "i = 0\n",
    "std = 0\n",
    "while i < len(s) :\n",
    "    if s[i] == '<' :\n",
    "        i += 1\n",
    "        while s[i] != '>' :\n",
    "            i += 1\n",
    "        i += 1 # s[i] == '>' 인 상황에서 idx를 하나 더 증가시킨다.\n",
    "    \n",
    "    elif s[i].isalnum() :\n",
    "        # 단어가 시작되는 idx를 저장해두기 위해서 설정한다.\n",
    "        std = i\n",
    "        i += 1\n",
    "\n",
    "        while i < len(s) and s[i].isalnum() :\n",
    "            i += 1\n",
    "        tmp = s[std:i] \n",
    "        tmp = reversed(tmp)\n",
    "        s[std:i] = tmp\n",
    "    \n",
    "    else :\n",
    "        i += 1\n",
    "\n",
    "print(\"\".join(s))"
   ]
  },
  {
   "cell_type": "markdown",
   "id": "21fd6365",
   "metadata": {},
   "source": [
    "# 각각의 문자열에 대해서 접근하지만\n",
    "# tag 라는 변수를 설정해서 \n",
    "# 제대로 입력할때와 반대로 입력할때를 나누어서\n",
    "## 조건을 설정한다."
   ]
  },
  {
   "cell_type": "code",
   "execution_count": null,
   "id": "1517bd46",
   "metadata": {},
   "outputs": [],
   "source": [
    "import sys\n",
    "s = sys.stdin.readline().strip()\n",
    "\n",
    "word = ''\n",
    "result = ''\n",
    "\n",
    "# tag가 False면 거꾸로, True면 제대로 입력\n",
    "tag = False \n",
    "\n",
    "for elem in s : \n",
    "    if not tag : # 거꾸로 입력되는 경우\n",
    "        if elem == '<' :\n",
    "            word += elem \n",
    "            tag = True \n",
    "        elif elem == ' ' :\n",
    "            word += elem \n",
    "            result += word \n",
    "            word = ''\n",
    "        else :\n",
    "            word = elem + word # => 문자열을 거꾸로 저장해주고 있다.\n",
    "    \n",
    "    elif tag : # 제대로 입력되는 경우\n",
    "        word = word + elem\n",
    "        if elem == '>' :\n",
    "            tag = False \n",
    "            result += word\n",
    "            word = ''\n",
    "\n",
    "print(result + word)"
   ]
  }
 ],
 "metadata": {
  "kernelspec": {
   "display_name": "Python 3",
   "language": "python",
   "name": "python3"
  },
  "language_info": {
   "codemirror_mode": {
    "name": "ipython",
    "version": 3
   },
   "file_extension": ".py",
   "mimetype": "text/x-python",
   "name": "python",
   "nbconvert_exporter": "python",
   "pygments_lexer": "ipython3",
   "version": "3.8.8"
  }
 },
 "nbformat": 4,
 "nbformat_minor": 5
}
