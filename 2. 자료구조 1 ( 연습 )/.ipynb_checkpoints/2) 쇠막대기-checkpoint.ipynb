{
 "cells": [
  {
   "cell_type": "markdown",
   "id": "3f33594c",
   "metadata": {},
   "source": [
    "# Stack을 사용한 풀이\n",
    "문제 정리 : \n",
    "https://www.notion.so/10799-06b692dd8b94472a9a14fe18d81fbe04"
   ]
  },
  {
   "cell_type": "code",
   "execution_count": null,
   "id": "35c9e701",
   "metadata": {},
   "outputs": [],
   "source": [
    "import sys\n",
    "# 괄호 문자의 개수가 최대 100,000이므로 \n",
    "# O(N), O(NlogN), O(logN), O(1) 내의 시간복잡도로 해결해야한다.\n",
    "brackets = sys.stdin.readline().strip()\n",
    "\n",
    "# 괄호문제이고, 시간복잡도를 고려해야 하므로, append, pop을 이용한다.\n",
    "stack = []\n",
    "cnt = 0\n",
    "\n",
    "for i in range(len(brackets)) :\n",
    "    if brackets[i] == '(' :\n",
    "        stack.append('(')\n",
    "    else :\n",
    "        if brackets[i-1] == '(' :\n",
    "            stack.pop()\n",
    "            cnt += len(stack)\n",
    "        else :\n",
    "            stack.pop()\n",
    "            cnt += 1\n",
    "print(cnt)"
   ]
  }
 ],
 "metadata": {
  "kernelspec": {
   "display_name": "Python 3",
   "language": "python",
   "name": "python3"
  },
  "language_info": {
   "codemirror_mode": {
    "name": "ipython",
    "version": 3
   },
   "file_extension": ".py",
   "mimetype": "text/x-python",
   "name": "python",
   "nbconvert_exporter": "python",
   "pygments_lexer": "ipython3",
   "version": "3.8.8"
  }
 },
 "nbformat": 4,
 "nbformat_minor": 5
}
