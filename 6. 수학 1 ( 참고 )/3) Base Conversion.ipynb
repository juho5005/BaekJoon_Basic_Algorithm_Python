{
 "cells": [
  {
   "cell_type": "markdown",
   "id": "c9c9e84e",
   "metadata": {},
   "source": [
    "## result ='' 로 하면 정답인정이 안되서 혹시 리스트로 바꿔야 되나 해서 해봤는데 정답처리가 되었다"
   ]
  },
  {
   "cell_type": "markdown",
   "id": "8c7c3687",
   "metadata": {},
   "source": [
    "### 아직 왜 문자열로 하면 틀리고 리스트로 하면 맞는지 해결 X.."
   ]
  },
  {
   "cell_type": "code",
   "execution_count": null,
   "id": "6102de6a",
   "metadata": {},
   "outputs": [],
   "source": [
    "import sys \n",
    "a, b = tuple(map(int, sys.stdin.readline().split())) \n",
    "m = int(sys.stdin.readline()) # A진법으로 나타낸 숫자의 자리수의 개수 m (1 <= m <= 25)\n",
    "nums = list(map(int, sys.stdin.readline().split()))\n",
    "\n",
    "res = 0\n",
    "i = 0\n",
    "for elem in nums[::-1] :\n",
    "    res += (elem * (a**i))\n",
    "    i += 1\n",
    "\n",
    "result = []\n",
    "while res != 0 :\n",
    "    result.append(res%b)\n",
    "    res //= b \n",
    "\n",
    "print(*result[::-1])"
   ]
  }
 ],
 "metadata": {
  "kernelspec": {
   "display_name": "Python 3",
   "language": "python",
   "name": "python3"
  },
  "language_info": {
   "codemirror_mode": {
    "name": "ipython",
    "version": 3
   },
   "file_extension": ".py",
   "mimetype": "text/x-python",
   "name": "python",
   "nbconvert_exporter": "python",
   "pygments_lexer": "ipython3",
   "version": "3.8.8"
  }
 },
 "nbformat": 4,
 "nbformat_minor": 5
}
