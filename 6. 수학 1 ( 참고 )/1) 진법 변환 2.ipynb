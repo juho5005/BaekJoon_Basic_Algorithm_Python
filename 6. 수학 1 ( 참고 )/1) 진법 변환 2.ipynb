{
 "cells": [
  {
   "cell_type": "markdown",
   "id": "bbb97795",
   "metadata": {},
   "source": [
    "## 진법 변환에 대한 문제 이해가 필요했다.\n",
    "문제풀이 : https://www.notion.so/11005-2-0d5d04596b5c496fa480e26ca8fdd082"
   ]
  },
  {
   "cell_type": "code",
   "execution_count": null,
   "id": "ef9527bb",
   "metadata": {},
   "outputs": [],
   "source": [
    "import sys \n",
    "n, b = tuple(map(int, sys.stdin.readline().split()))\n",
    "\n",
    "remainder = '0123456789ABCDEFGHIJKLMNOPQRSTUVWXYZ'\n",
    "\n",
    "res = ''\n",
    "\n",
    "while n != 0 :\n",
    "    res = remainder[n%b] + res\n",
    "    n //= b\n",
    "\n",
    "print(res)\n"
   ]
  }
 ],
 "metadata": {
  "kernelspec": {
   "display_name": "Python 3",
   "language": "python",
   "name": "python3"
  },
  "language_info": {
   "codemirror_mode": {
    "name": "ipython",
    "version": 3
   },
   "file_extension": ".py",
   "mimetype": "text/x-python",
   "name": "python",
   "nbconvert_exporter": "python",
   "pygments_lexer": "ipython3",
   "version": "3.8.8"
  }
 },
 "nbformat": 4,
 "nbformat_minor": 5
}
