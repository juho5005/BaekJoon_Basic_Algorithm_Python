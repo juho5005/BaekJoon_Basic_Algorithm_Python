{
 "cells": [
  {
   "cell_type": "markdown",
   "id": "bac242a5",
   "metadata": {},
   "source": [
    "## 단계별로 풀어보기 수학 문제에 수록된 문제이다."
   ]
  },
  {
   "cell_type": "code",
   "execution_count": null,
   "id": "38aa38d3",
   "metadata": {},
   "outputs": [],
   "source": [
    "# 소인수분해\n",
    "# 정수 N이 주어졌을 때, 소인수분해하시오\n",
    "\n",
    "import sys \n",
    "n = int(sys.stdin.readline()) # 1 <= N <= 10,000,000 시간초과 유의 O(1)내로 해결 목표\n",
    "\n",
    "if n == 1 :\n",
    "    sys.exit()\n",
    "\n",
    "i = 2\n",
    "while n != 1 :\n",
    "    \n",
    "    if n % i == 0 :\n",
    "        print(i)\n",
    "        n //= i \n",
    "    else :\n",
    "        i += 1\n"
   ]
  }
 ],
 "metadata": {
  "kernelspec": {
   "display_name": "Python 3",
   "language": "python",
   "name": "python3"
  },
  "language_info": {
   "codemirror_mode": {
    "name": "ipython",
    "version": 3
   },
   "file_extension": ".py",
   "mimetype": "text/x-python",
   "name": "python",
   "nbconvert_exporter": "python",
   "pygments_lexer": "ipython3",
   "version": "3.8.8"
  }
 },
 "nbformat": 4,
 "nbformat_minor": 5
}
