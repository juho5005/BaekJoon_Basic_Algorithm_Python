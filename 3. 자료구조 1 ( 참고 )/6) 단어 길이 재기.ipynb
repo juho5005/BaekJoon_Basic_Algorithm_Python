{
 "cells": [
  {
   "cell_type": "markdown",
   "id": "0a8885be",
   "metadata": {},
   "source": [
    "# 단어 길이 재기"
   ]
  },
  {
   "cell_type": "code",
   "execution_count": null,
   "id": "11c23f8b",
   "metadata": {},
   "outputs": [],
   "source": [
    "import sys \n",
    "\n",
    "s = sys.stdin.readline().strip()\n",
    "print(len(s))\n"
   ]
  }
 ],
 "metadata": {
  "kernelspec": {
   "display_name": "Python 3",
   "language": "python",
   "name": "python3"
  },
  "language_info": {
   "codemirror_mode": {
    "name": "ipython",
    "version": 3
   },
   "file_extension": ".py",
   "mimetype": "text/x-python",
   "name": "python",
   "nbconvert_exporter": "python",
   "pygments_lexer": "ipython3",
   "version": "3.8.8"
  }
 },
 "nbformat": 4,
 "nbformat_minor": 5
}
