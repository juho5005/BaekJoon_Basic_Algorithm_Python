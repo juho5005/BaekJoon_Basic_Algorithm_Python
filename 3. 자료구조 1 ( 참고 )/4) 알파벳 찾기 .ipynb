{
 "cells": [
  {
   "cell_type": "markdown",
   "id": "cdd01dd2",
   "metadata": {},
   "source": [
    "# find 함수를 이해하면 쉬운 문제"
   ]
  },
  {
   "cell_type": "code",
   "execution_count": null,
   "id": "090e06da",
   "metadata": {},
   "outputs": [],
   "source": [
    "# 알파벳 찾기\n",
    "\n",
    "# 단어에 포함되어 있는 처음 등장하는 위치를, \n",
    "# 단어에 포함되어 있지 않은 경우는 -1 출력\n",
    "\n",
    "import sys \n",
    "s = sys.stdin.readline().strip()\n",
    "\n",
    "# find 함수를 쓰면 쉽게 구할 수 있다.\n",
    "# find 함수는 없으면 -1을 출력해줌 (문자열 함수)\n",
    "\n",
    "for i in range(ord('a'), ord('z') + 1) :\n",
    "    print(s.find(chr(i)), end = ' ')\n"
   ]
  }
 ],
 "metadata": {
  "kernelspec": {
   "display_name": "Python 3",
   "language": "python",
   "name": "python3"
  },
  "language_info": {
   "codemirror_mode": {
    "name": "ipython",
    "version": 3
   },
   "file_extension": ".py",
   "mimetype": "text/x-python",
   "name": "python",
   "nbconvert_exporter": "python",
   "pygments_lexer": "ipython3",
   "version": "3.8.8"
  }
 },
 "nbformat": 4,
 "nbformat_minor": 5
}
