{
 "cells": [
  {
   "cell_type": "markdown",
   "id": "7a9988ff",
   "metadata": {},
   "source": [
    "# 스택을 사용하여 풀이.\n",
    "문제 설명 : https://www.notion.so/1935-2-f3fa63e2905f484080b6e3bdf18bdb6e"
   ]
  },
  {
   "cell_type": "code",
   "execution_count": null,
   "id": "15c047a5",
   "metadata": {},
   "outputs": [],
   "source": [
    "# 후위 표기식2\n",
    "\n",
    "import sys \n",
    "# 피연산자의 개수\n",
    "n = int(sys.stdin.readline())\n",
    "\n",
    "# 후위 표기식\n",
    "formula = sys.stdin.readline().strip()\n",
    "\n",
    "nums = [\n",
    "    int(sys.stdin.readline())\n",
    "    for _ in range(n)\n",
    "]\n",
    "\n",
    "# 피연산자가 오면 stack에 담고, 연산자가 오면 stack에서 두 개의 값을 pop해서\n",
    "# 연산자로 계산 후 다시 stack에 push( append ) 한다.\n",
    "\n",
    "stack = []\n",
    "\n",
    "for elem in formula :\n",
    "    if 'A' <= elem <= 'Z' :\n",
    "        stack.append(nums[ord(elem) - ord('A')])\n",
    "    \n",
    "    else :\n",
    "        num2 = stack.pop()\n",
    "        num1 = stack.pop()\n",
    "\n",
    "        if elem == '+' :\n",
    "            stack.append(num1 + num2)\n",
    "        elif elem == '-' :\n",
    "            stack.append(num1 - num2)\n",
    "        elif elem == '*' :\n",
    "            stack.append(num1 * num2)\n",
    "        else :\n",
    "            stack.append(num1 / num2)\n",
    "\n",
    "print(f'{stack[0]:.2f}')"
   ]
  }
 ],
 "metadata": {
  "kernelspec": {
   "display_name": "Python 3",
   "language": "python",
   "name": "python3"
  },
  "language_info": {
   "codemirror_mode": {
    "name": "ipython",
    "version": 3
   },
   "file_extension": ".py",
   "mimetype": "text/x-python",
   "name": "python",
   "nbconvert_exporter": "python",
   "pygments_lexer": "ipython3",
   "version": "3.8.8"
  }
 },
 "nbformat": 4,
 "nbformat_minor": 5
}
