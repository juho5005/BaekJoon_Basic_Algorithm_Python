{
 "cells": [
  {
   "cell_type": "markdown",
   "id": "66f02917",
   "metadata": {},
   "source": [
    "# is~ 검사함수를 모르고 풀었을 때"
   ]
  },
  {
   "cell_type": "code",
   "execution_count": null,
   "id": "8e35664d",
   "metadata": {},
   "outputs": [],
   "source": [
    "# 문자열 분석\n",
    "# 문자열 N개 입력, 문자열에 포함된 '소문자', '대문자', '숫자', '공백'의 개수는 ?\n",
    "\n",
    "import sys \n",
    "\n",
    "while 1 :\n",
    "    line = sys.stdin.readline().rstrip('\\n')\n",
    "\n",
    "    if not line : \n",
    "        break\n",
    "    up    = 0\n",
    "    down  = 0\n",
    "    num   = 0\n",
    "    blank = 0\n",
    "    for s in line :\n",
    "        if s.isalnum() :\n",
    "            if 'A' <= s <= 'Z' :\n",
    "                up += 1\n",
    "            elif 'a' <= s <= 'z' :\n",
    "                down += 1\n",
    "            else :\n",
    "                num += 1\n",
    "        if s == ' ' :\n",
    "            blank += 1\n",
    "    print(down, up, num, blank)"
   ]
  },
  {
   "cell_type": "markdown",
   "id": "f00ffa34",
   "metadata": {},
   "source": [
    "# 함수를 알고 풀었을 때"
   ]
  },
  {
   "cell_type": "code",
   "execution_count": null,
   "id": "fe61591d",
   "metadata": {},
   "outputs": [],
   "source": [
    "# 문자열 분석\n",
    "# 문자열 N개 입력, 문자열에 포함된 '소문자', '대문자', '숫자', '공백'의 개수는 ?\n",
    "import sys \n",
    "while 1 :\n",
    "    line = sys.stdin.readline().rstrip('\\n')\n",
    "\n",
    "    # 종료 조건을 직접 생성\n",
    "    if not line :\n",
    "        break\n",
    "\n",
    "    # 소문자, 대문자, 숫자, 공백의 개수 초기화\n",
    "    lower = 0\n",
    "    upper = 0\n",
    "    digit = 0\n",
    "    space = 0\n",
    "\n",
    "    for elem in line :\n",
    "        if elem.islower() :\n",
    "            lower += 1\n",
    "        elif elem.isupper() :\n",
    "            upper += 1\n",
    "        elif elem.isdigit() :\n",
    "            digit += 1\n",
    "        elif elem.isspace() :\n",
    "            space += 1\n",
    "    \n",
    "    print(f'{lower} {upper} {digit} {space}')"
   ]
  }
 ],
 "metadata": {
  "kernelspec": {
   "display_name": "Python 3",
   "language": "python",
   "name": "python3"
  },
  "language_info": {
   "codemirror_mode": {
    "name": "ipython",
    "version": 3
   },
   "file_extension": ".py",
   "mimetype": "text/x-python",
   "name": "python",
   "nbconvert_exporter": "python",
   "pygments_lexer": "ipython3",
   "version": "3.8.8"
  }
 },
 "nbformat": 4,
 "nbformat_minor": 5
}
