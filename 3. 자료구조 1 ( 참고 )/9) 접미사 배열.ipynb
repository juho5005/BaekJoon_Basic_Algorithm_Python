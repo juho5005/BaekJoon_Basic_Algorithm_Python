{
 "cells": [
  {
   "cell_type": "markdown",
   "id": "3d697d42",
   "metadata": {},
   "source": [
    "문제 풀이 : https://www.notion.so/11656-47f1a8cd448a43afac6bde771a8610b9"
   ]
  },
  {
   "cell_type": "markdown",
   "id": "16a69958",
   "metadata": {},
   "source": [
    "# 처음에 이중 리스트로 복잡하게 푼 방식"
   ]
  },
  {
   "cell_type": "code",
   "execution_count": null,
   "id": "0ffda221",
   "metadata": {},
   "outputs": [],
   "source": [
    "# 접미사 배열\n",
    "import sys \n",
    "s = list(sys.stdin.readline().rstrip('\\n'))\n",
    "l = len(s)\n",
    "\n",
    "suffix = []\n",
    "suffix.append(s)\n",
    "\n",
    "for _ in range(len(s) - 1) :\n",
    "    s = s[1:]\n",
    "    suffix.append(s)\n",
    "    \n",
    "suffix.sort()\n",
    "for elem in suffix :\n",
    "    print(''.join(elem))"
   ]
  },
  {
   "cell_type": "markdown",
   "id": "69817322",
   "metadata": {},
   "source": [
    "# 문자열의 속성을 잘 이용하여 훨씬 간결하게 푼 방식"
   ]
  },
  {
   "cell_type": "code",
   "execution_count": null,
   "id": "0e73769e",
   "metadata": {},
   "outputs": [],
   "source": [
    "# 접미사 배열\n",
    "import sys \n",
    "s = sys.stdin.readline().rstrip('\\n')\n",
    "l = len(s)\n",
    "\n",
    "suffix = []\n",
    "for i in range(l) :\n",
    "    suffix.append(s[i:])\n",
    "\n",
    "suffix.sort()\n",
    "for elem in suffix :\n",
    "    print(elem)"
   ]
  }
 ],
 "metadata": {
  "kernelspec": {
   "display_name": "Python 3",
   "language": "python",
   "name": "python3"
  },
  "language_info": {
   "codemirror_mode": {
    "name": "ipython",
    "version": 3
   },
   "file_extension": ".py",
   "mimetype": "text/x-python",
   "name": "python",
   "nbconvert_exporter": "python",
   "pygments_lexer": "ipython3",
   "version": "3.8.8"
  }
 },
 "nbformat": 4,
 "nbformat_minor": 5
}
