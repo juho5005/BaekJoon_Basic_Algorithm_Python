{
 "cells": [
  {
   "cell_type": "markdown",
   "id": "76ac0f86",
   "metadata": {},
   "source": [
    "# dictionary를 사용한 방법\n",
    "1-1) dict[key] = value 방식으로 접근"
   ]
  },
  {
   "cell_type": "code",
   "execution_count": null,
   "id": "b2bb2bb3",
   "metadata": {},
   "outputs": [],
   "source": [
    "# 알파벳 개수\n",
    "\n",
    "import sys \n",
    "s = sys.stdin.readline().strip()\n",
    "\n",
    "dict = {\n",
    "    chr(i) : 0 \n",
    "    for i in range(ord('a'), ord('z') + 1)\n",
    "}\n",
    "\n",
    "for elem in s :\n",
    "    if elem in dict :\n",
    "        dict[elem] += 1\n",
    "    \n",
    "for k in dict :\n",
    "    print(dict[k], end = ' ')"
   ]
  },
  {
   "cell_type": "markdown",
   "id": "911aa42d",
   "metadata": {},
   "source": [
    "1-2) dict.values()로 value값들을 받아주는 방식\n",
    "values뒤에 () 꼭 붙이기! 이거 까먹어서 틀렸음."
   ]
  },
  {
   "cell_type": "code",
   "execution_count": null,
   "id": "27ab9010",
   "metadata": {},
   "outputs": [],
   "source": [
    "# 알파벳 개수\n",
    "\n",
    "import sys \n",
    "s = sys.stdin.readline().strip()\n",
    "\n",
    "dict = {\n",
    "    chr(i) : 0 \n",
    "    for i in range(ord('a'), ord('z') + 1)\n",
    "}\n",
    "\n",
    "for elem in s :\n",
    "    if elem in dict :\n",
    "        dict[elem] += 1\n",
    "        \n",
    "for k in dict.values() :\n",
    "    print(k, end = ' ') "
   ]
  },
  {
   "cell_type": "markdown",
   "id": "a6c96866",
   "metadata": {},
   "source": [
    "# 빈 리스트를 생성해서 더 간결하게 구하는 방식"
   ]
  },
  {
   "cell_type": "code",
   "execution_count": null,
   "id": "a4a769f7",
   "metadata": {},
   "outputs": [],
   "source": [
    "# 알파벳 개수\n",
    "\n",
    "import sys \n",
    "s = sys.stdin.readline().strip()\n",
    "\n",
    "alps = [0] * 26\n",
    "\n",
    "for elem in s :\n",
    "    alps[ord(elem) - ord('a')] += 1\n",
    "\n",
    "print(*alps)"
   ]
  }
 ],
 "metadata": {
  "kernelspec": {
   "display_name": "Python 3",
   "language": "python",
   "name": "python3"
  },
  "language_info": {
   "codemirror_mode": {
    "name": "ipython",
    "version": 3
   },
   "file_extension": ".py",
   "mimetype": "text/x-python",
   "name": "python",
   "nbconvert_exporter": "python",
   "pygments_lexer": "ipython3",
   "version": "3.8.8"
  }
 },
 "nbformat": 4,
 "nbformat_minor": 5
}
