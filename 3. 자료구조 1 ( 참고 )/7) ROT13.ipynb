{
 "cells": [
  {
   "cell_type": "code",
   "execution_count": null,
   "id": "8cf1cdfd",
   "metadata": {},
   "outputs": [],
   "source": [
    "# ROT 13 카이사르 암호의 일종\n",
    "# 영어 알파벳 (대문자, 소문자)을 13글자씩 밀어서 만든다.\n",
    "\n",
    "import sys \n",
    "s = sys.stdin.readline().rstrip('\\n')\n",
    "\n",
    "word = ''\n",
    "for elem in s : \n",
    "    if elem.isupper() :\n",
    "        if ord(elem) + 13 > ord('Z') :\n",
    "            word += chr(ord('A') + ord(elem) + 13 - ord('Z') -1)\n",
    "        else :\n",
    "            word += chr((ord(elem) + 13))\n",
    "            \n",
    "    elif elem.islower() :\n",
    "        if ord(elem) + 13 > ord('z') :\n",
    "            word += chr(ord('a') + ord(elem) + 13 - ord('z') -1)\n",
    "        else :\n",
    "            word += chr((ord(elem) + 13))\n",
    "    else :\n",
    "        word += elem \n",
    "print(word)"
   ]
  },
  {
   "cell_type": "markdown",
   "id": "e89fdc6e",
   "metadata": {},
   "source": [
    "# 위 식을 간단하게 줄였을 때\n",
    "chr(ord('a') + ord(elem) + 13 - ord('z') -1) 식에서 \n",
    "ord('a') = 65, ord('z') = 90 이므로 13 - 26 해서 -13으로 줄여줄 수 있다."
   ]
  },
  {
   "cell_type": "code",
   "execution_count": null,
   "id": "5afd7283",
   "metadata": {},
   "outputs": [],
   "source": [
    "# ROT 13 카이사르 암호의 일종\n",
    "# 영어 알파벳 (대문자, 소문자)을 13글자씩 밀어서 만든다.\n",
    "\n",
    "import sys \n",
    "s = sys.stdin.readline().rstrip('\\n')\n",
    "\n",
    "word = ''\n",
    "for elem in s : \n",
    "    if elem.isupper() :\n",
    "        if ord(elem) + 13 > ord('Z') :\n",
    "            word += chr(ord(elem) - 13)\n",
    "        else :\n",
    "            word += chr((ord(elem) + 13))\n",
    "            \n",
    "    elif elem.islower() :\n",
    "        if ord(elem) + 13 > ord('z') :\n",
    "            word += chr(ord(elem) - 13)\n",
    "        else :\n",
    "            word += chr((ord(elem) + 13))\n",
    "    else :\n",
    "        word += elem \n",
    "print(word)"
   ]
  }
 ],
 "metadata": {
  "kernelspec": {
   "display_name": "Python 3",
   "language": "python",
   "name": "python3"
  },
  "language_info": {
   "codemirror_mode": {
    "name": "ipython",
    "version": 3
   },
   "file_extension": ".py",
   "mimetype": "text/x-python",
   "name": "python",
   "nbconvert_exporter": "python",
   "pygments_lexer": "ipython3",
   "version": "3.8.8"
  }
 },
 "nbformat": 4,
 "nbformat_minor": 5
}
