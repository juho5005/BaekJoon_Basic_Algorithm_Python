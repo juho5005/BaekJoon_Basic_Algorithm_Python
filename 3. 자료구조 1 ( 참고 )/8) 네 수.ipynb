{
 "cells": [
  {
   "cell_type": "code",
   "execution_count": null,
   "id": "034f64c4",
   "metadata": {},
   "outputs": [],
   "source": [
    "# 네 수\n",
    "# A, B, C, D가 주어질 때, A와 B를 붙인 수와 C 와 D를 붙인 수의 합\n",
    "import sys \n",
    "nums = list(map(int, sys.stdin.readline().split()))\n",
    "\n",
    "num1 = int(str(nums[0]) + str(nums[1]))\n",
    "num2 = int(str(nums[2]) + str(nums[3]))\n",
    "\n",
    "print(num1 + num2)"
   ]
  }
 ],
 "metadata": {
  "kernelspec": {
   "display_name": "Python 3",
   "language": "python",
   "name": "python3"
  },
  "language_info": {
   "codemirror_mode": {
    "name": "ipython",
    "version": 3
   },
   "file_extension": ".py",
   "mimetype": "text/x-python",
   "name": "python",
   "nbconvert_exporter": "python",
   "pygments_lexer": "ipython3",
   "version": "3.8.8"
  }
 },
 "nbformat": 4,
 "nbformat_minor": 5
}
