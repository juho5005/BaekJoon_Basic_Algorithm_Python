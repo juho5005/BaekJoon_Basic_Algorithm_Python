{
 "cells": [
  {
   "cell_type": "markdown",
   "id": "713fc27b",
   "metadata": {},
   "source": [
    "# Stack을 사용한 풀이\n",
    "문제 풀이 : https://www.notion.so/1918-8d7a10bda11947829b5ebf410671f4b3\n",
    "\n"
   ]
  },
  {
   "cell_type": "code",
   "execution_count": null,
   "id": "8975086e",
   "metadata": {},
   "outputs": [],
   "source": [
    "# 후위 표기식\n",
    "# 중위 표기식에서 연산자의 우선순위를 고려하여,\n",
    "# 괄호로 묶은 후 괄호 안의 연산자를 괄호의 오른쪽으로 옮겨준다.\n",
    "\n",
    "import sys \n",
    "# 중위 표기식 입력\n",
    "mid_formula = sys.stdin.readline().strip()\n",
    "\n",
    "# 결과를 담을 res 문자열 생성\n",
    "res = ''\n",
    "\n",
    "# 연산자들을 고려할 stack 생성\n",
    "stack = []\n",
    "\n",
    "for elem in mid_formula : \n",
    "    # 피연산자는 알파벳 대문자로 구성\n",
    "    if 'A' <= elem <= 'Z' :\n",
    "        res += elem \n",
    "    \n",
    "    # 피연산자가 아닌 연산자가 주어졌을 때\n",
    "    else :\n",
    "        # '('는 ')'를 만나야 영향을 미치므로 stack에 무조건 append 해준다.\n",
    "        if elem == '(' :\n",
    "            stack.append(elem)\n",
    "        \n",
    "        # ')'가 나왔다는 것은 '('도 앞전에 나왔던 것이고, 괄호 안에 쌓여있는 연산자들은\n",
    "        # '('가 나올 때까지의 연산자들은 우선순위를 갖게 되서 결과값에 넣어준다.\n",
    "        elif elem == ')' :\n",
    "            while stack and stack[-1] != '(' : # 스택이 비어있지 않은 조건은\n",
    "                res += stack.pop()             # 그냥 필수조건인것 같다.\n",
    "            # '('를 제거하기 위한 pop\n",
    "            stack.pop()\n",
    "        \n",
    "        # '+', '-'는 우선순위가 가장 낲으므로, 앞전에 '('가 아니라면 모두 pop해서\n",
    "        # 결과값에 넣어준다. (어차피 먼저 나온 것이 우선순위가 높은 논리)\n",
    "        elif elem == '+' or elem == '-' :\n",
    "            while stack and stack[-1] != '(' :\n",
    "                res += stack.pop()\n",
    "            # 현 elem 값인 '+' 또는 '-'는 나중을 위해 append 해둔다.\n",
    "            stack.append(elem)\n",
    "            \n",
    "        # '*', '/'는 우선순위가 빠른 연산자 이므로, 주의해야 하는데,\n",
    "        # '*', '/' 앞에 '+', '-'가 와봤자 어차피 우선순위에서 밀리게 될 것이고, \n",
    "        # '*', '/' 앞에 같은 연산자인 '*', '/'가 와있으면 우선순위가 같아서 \n",
    "        # 먼저 나온 연산자 부터 출력하게 된다. 그러므로 stack앞에 '*', '-'를 고려\n",
    "\n",
    "        else :\n",
    "            while stack and (stack[-1] == '*' or stack[-1] == '/') :\n",
    "                res += stack.pop()\n",
    "            # 현 elem 값인 '*' 또는 '/'는 나중을 위해 append 해둔다.\n",
    "            stack.append(elem)\n",
    "\n",
    "\n",
    "\n",
    "while stack :\n",
    "    res += stack.pop()\n",
    "\n",
    "print(res)"
   ]
  }
 ],
 "metadata": {
  "kernelspec": {
   "display_name": "Python 3",
   "language": "python",
   "name": "python3"
  },
  "language_info": {
   "codemirror_mode": {
    "name": "ipython",
    "version": 3
   },
   "file_extension": ".py",
   "mimetype": "text/x-python",
   "name": "python",
   "nbconvert_exporter": "python",
   "pygments_lexer": "ipython3",
   "version": "3.8.8"
  }
 },
 "nbformat": 4,
 "nbformat_minor": 5
}
