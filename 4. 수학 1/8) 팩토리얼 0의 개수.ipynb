{
 "cells": [
  {
   "cell_type": "markdown",
   "id": "5eece2ad",
   "metadata": {},
   "source": [
    "문제 풀이 : https://www.notion.so/1676-0-b0ede2f0d68d4f1a89322e773047f90d"
   ]
  },
  {
   "cell_type": "markdown",
   "id": "93ce9da6",
   "metadata": {},
   "source": [
    "## 팩토리얼을 적용한 수를 직접 구해서 \n",
    "## 리스트로 변환해 뒤집어 준 후 \n",
    "## 0의 개수를 세어주는 방식"
   ]
  },
  {
   "cell_type": "code",
   "execution_count": null,
   "id": "87ff1f26",
   "metadata": {},
   "outputs": [],
   "source": [
    "# 팩토리얼 0의 개수\n",
    "# N!에서 뒤에서부터 처음 0이 아닌 숫자가 나올 때까지 0의 개수를 구하는 프로그램\n",
    "\n",
    "import sys \n",
    "n = int(sys.stdin.readline())\n",
    "\n",
    "def facto(n) :\n",
    "    if n < 2 : \n",
    "        return 1 \n",
    "    else :\n",
    "        return facto(n-1) * n\n",
    "\n",
    "\n",
    "zero_cnt = 0\n",
    "\n",
    "num_lst = list(str(facto(n)))\n",
    "num_lst.reverse()\n",
    "\n",
    "for elem in num_lst :\n",
    "    if elem == '0' :\n",
    "        zero_cnt += 1\n",
    "    else :\n",
    "        break\n",
    "\n",
    "print(zero_cnt)"
   ]
  },
  {
   "cell_type": "markdown",
   "id": "d3caf1ae",
   "metadata": {},
   "source": [
    "## math 모듈로 부터 factorial 함수를 사용하고, \n",
    "## reverse 함수대신 [::-1] : 리스트 인덱션 사용하기"
   ]
  },
  {
   "cell_type": "code",
   "execution_count": null,
   "id": "496bf350",
   "metadata": {},
   "outputs": [],
   "source": [
    "# 팩토리얼 0의 개수\n",
    "# N!에서 뒤에서부터 처음 0이 아닌 숫자가 나올 때까지 0의 개수를 구하는 프로그램\n",
    "\n",
    "from math import factorial\n",
    "import sys \n",
    "n = int(sys.stdin.readline())\n",
    "\n",
    "num_lst = list(str(factorial(n)))\n",
    "num_lst = num_lst[::-1]\n",
    "\n",
    "zero_cnt = 0\n",
    "for elem in num_lst : \n",
    "    if elem == '0' :\n",
    "        zero_cnt += 1\n",
    "    else :\n",
    "        break\n",
    "\n",
    "print(zero_cnt)"
   ]
  },
  {
   "cell_type": "markdown",
   "id": "7cb8366c",
   "metadata": {},
   "source": [
    "## 소인수분해의 정의를 이용하여 5의 개수를 구한 방식"
   ]
  },
  {
   "cell_type": "code",
   "execution_count": null,
   "id": "f3e505fd",
   "metadata": {},
   "outputs": [],
   "source": [
    "import sys \n",
    "n = int(sys.stdin.readline())\n",
    "\n",
    "zero_cnt = 0\n",
    "while n > 0 :\n",
    "    zero_cnt += n // 5\n",
    "    n //= 5\n",
    "\n",
    "print(zero_cnt)"
   ]
  }
 ],
 "metadata": {
  "kernelspec": {
   "display_name": "Python 3",
   "language": "python",
   "name": "python3"
  },
  "language_info": {
   "codemirror_mode": {
    "name": "ipython",
    "version": 3
   },
   "file_extension": ".py",
   "mimetype": "text/x-python",
   "name": "python",
   "nbconvert_exporter": "python",
   "pygments_lexer": "ipython3",
   "version": "3.8.8"
  }
 },
 "nbformat": 4,
 "nbformat_minor": 5
}
