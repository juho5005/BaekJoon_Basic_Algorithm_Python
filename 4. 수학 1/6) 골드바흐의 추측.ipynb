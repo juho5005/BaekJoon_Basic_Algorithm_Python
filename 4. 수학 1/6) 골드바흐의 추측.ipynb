{
 "cells": [
  {
   "cell_type": "markdown",
   "id": "069eb7be",
   "metadata": {},
   "source": [
    "# 9020번의 골드바흐의 추측 문제와 굉장히 유사\n",
    "문제 풀이 : https://www.notion.so/9020-f8f77e6b4ae24079b9fb8177bfb7a435\n",
    "\n",
    "\n",
    "##### 에라토스테네스의 체를 이용하여 범위 내의 숫자들을 소수인 수, 아닌 수 로 구분을 해놓고\n",
    "##### 파티션인 x,y값을 x+y = n의 조건을 벗어나지 않으면서 범위를 정해서 소수인 수 를 찾는 문제."
   ]
  },
  {
   "cell_type": "code",
   "execution_count": null,
   "id": "5216fe9a",
   "metadata": {},
   "outputs": [],
   "source": [
    "# 골드바흐의 추측\n",
    "# \"4보다 큰 모든 짝수는 두 홀수 소수의 합으로 나타낼 수 있다.\"\n",
    "\n",
    "import sys \n",
    "import math\n",
    "\n",
    "# 0 ~ 1000000 까지의 모든 소수는 True, 소수가 아니면 False로 초기화\n",
    "eratos = [\n",
    "    True \n",
    "    for _ in range(1000001)\n",
    "]\n",
    "eratos[0] = False\n",
    "eratos[1] = False \n",
    "\n",
    "for i in range(2, int(math.sqrt(1000000)) + 1) :\n",
    "    if eratos[i] :\n",
    "        j = 2\n",
    "        while i * j <= 1000000 :\n",
    "            eratos[i*j] = False \n",
    "            j += 1\n",
    "\n",
    "\n",
    "while 1 :\n",
    "    n = int(sys.stdin.readline()) # n은 짝수 정수\n",
    "    \n",
    "    if n == 0 : \n",
    "        break\n",
    "    \n",
    "    x = 3\n",
    "    y = n - 3\n",
    "\n",
    "    while y > (n//2) :\n",
    "        if eratos[x] and eratos[y] :\n",
    "            break\n",
    "        else :\n",
    "            x += 1\n",
    "            y -= 1 \n",
    "\n",
    "    print(f'{n} = {x} + {y}')"
   ]
  }
 ],
 "metadata": {
  "kernelspec": {
   "display_name": "Python 3",
   "language": "python",
   "name": "python3"
  },
  "language_info": {
   "codemirror_mode": {
    "name": "ipython",
    "version": 3
   },
   "file_extension": ".py",
   "mimetype": "text/x-python",
   "name": "python",
   "nbconvert_exporter": "python",
   "pygments_lexer": "ipython3",
   "version": "3.8.8"
  }
 },
 "nbformat": 4,
 "nbformat_minor": 5
}
