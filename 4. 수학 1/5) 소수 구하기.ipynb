{
 "cells": [
  {
   "cell_type": "markdown",
   "id": "3a24a9d9",
   "metadata": {},
   "source": [
    "# 에라토스테네스의 체를 사용하기"
   ]
  },
  {
   "cell_type": "markdown",
   "id": "cbbb7893",
   "metadata": {},
   "source": [
    "에라토스테네스의 정의 : https://www.notion.so/6810dce685af43e194495d781304ffd6"
   ]
  },
  {
   "cell_type": "code",
   "execution_count": null,
   "id": "319cdf38",
   "metadata": {},
   "outputs": [],
   "source": [
    "# 소수 구하기\n",
    "# M이상 N이하의 소수를 모두 출력하시오.\n",
    "# 1 <= M, N <= 1,000,000\n",
    "# N <=100,000일때도 O(N), O(NlogN), O(logN), O(1)이므로 시간 복잡도를 고려해야함\n",
    "\n",
    "import math \n",
    "import sys \n",
    "m, n = tuple(map(int, sys.stdin.readline().split()))\n",
    "\n",
    "is_prime = [\n",
    "    True \n",
    "    for _ in range(n+1) # 0과 1은 미연에 없애둔다.\n",
    "]\n",
    "\n",
    "# 에라토스테네스의 체 : 2부터 시작하여 sqrt(n)까지 \n",
    "# 자기 자신을 제외한 자신의 배수를 제거해나가는 방식\n",
    "for i in range(2, int(math.sqrt(n)) + 1) :\n",
    "    if is_prime[i] :\n",
    "        j = 2\n",
    "        while i * j <= n :\n",
    "            is_prime[i*j] = False \n",
    "            j += 1\n",
    "\n",
    "# 0과 1은 소수가 아니므로\n",
    "is_prime[0] = False\n",
    "is_prime[1] = False\n",
    "\n",
    "# 출력 단계\n",
    "for i in range(m, n+1) :\n",
    "    if is_prime[i] :\n",
    "        print(i)"
   ]
  }
 ],
 "metadata": {
  "kernelspec": {
   "display_name": "Python 3",
   "language": "python",
   "name": "python3"
  },
  "language_info": {
   "codemirror_mode": {
    "name": "ipython",
    "version": 3
   },
   "file_extension": ".py",
   "mimetype": "text/x-python",
   "name": "python",
   "nbconvert_exporter": "python",
   "pygments_lexer": "ipython3",
   "version": "3.8.8"
  }
 },
 "nbformat": 4,
 "nbformat_minor": 5
}
