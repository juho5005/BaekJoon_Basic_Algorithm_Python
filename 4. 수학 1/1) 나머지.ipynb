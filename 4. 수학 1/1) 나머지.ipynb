{
 "cells": [
  {
   "cell_type": "markdown",
   "id": "5ee71c63",
   "metadata": {},
   "source": [
    "### 입력만 하면 되는 쉬운 문제"
   ]
  },
  {
   "cell_type": "code",
   "execution_count": null,
   "id": "098bc69f",
   "metadata": {},
   "outputs": [],
   "source": [
    "# 나머지\n",
    "# (A+B)%C => ((A%C) + (B%C)) % C 와 같을까?\n",
    "# (A*B)%C => ((A%C) * (B%C)) % C 와 같을까?\n",
    "\n",
    "import sys \n",
    "a, b, c = tuple(map(int, sys.stdin.readline().split()))\n",
    "result = 0\n",
    "\n",
    "# (A+B)%C \n",
    "result = (a+b)%c\n",
    "print(result)\n",
    "\n",
    "# ((A%C) + (B%C)) % C\n",
    "result = ((a%c) + (b%c)) % c\n",
    "print(result)\n",
    "\n",
    "# (A*B)%C\n",
    "result = (a*b)%c\n",
    "print(result)\n",
    "\n",
    "# ((A%C) * (B%C)) % C\n",
    "result = ((a%c) * (b%c)) % c\n",
    "print(result)"
   ]
  }
 ],
 "metadata": {
  "kernelspec": {
   "display_name": "Python 3",
   "language": "python",
   "name": "python3"
  },
  "language_info": {
   "codemirror_mode": {
    "name": "ipython",
    "version": 3
   },
   "file_extension": ".py",
   "mimetype": "text/x-python",
   "name": "python",
   "nbconvert_exporter": "python",
   "pygments_lexer": "ipython3",
   "version": "3.8.8"
  }
 },
 "nbformat": 4,
 "nbformat_minor": 5
}
