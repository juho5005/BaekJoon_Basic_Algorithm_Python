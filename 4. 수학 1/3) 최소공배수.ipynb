{
 "cells": [
  {
   "cell_type": "markdown",
   "id": "52358044",
   "metadata": {},
   "source": [
    "# math 모듈의 lcm(least common multiply) 사용"
   ]
  },
  {
   "cell_type": "code",
   "execution_count": null,
   "id": "9e5501fe",
   "metadata": {},
   "outputs": [],
   "source": [
    "import sys \n",
    "import math\n",
    "t = int(sys.stdin.readline()) # 1 <= T <= 1,000\n",
    "\n",
    "for _ in range(t) :\n",
    "    a, b = tuple(map(int, sys.stdin.readline().split()))\n",
    "    \n",
    "    print(math.lcm(a, b))"
   ]
  },
  {
   "cell_type": "markdown",
   "id": "fa3148e6",
   "metadata": {},
   "source": [
    "# gcd를 구하여 lcm을 구하는 방식"
   ]
  },
  {
   "cell_type": "code",
   "execution_count": null,
   "id": "bb3ef1cc",
   "metadata": {},
   "outputs": [],
   "source": [
    "import sys \n",
    "t = int(sys.stdin.readline())\n",
    "\n",
    "def gcd(a1, b1) : # greatest common divisor\n",
    "    while b1 > 0 : \n",
    "        a1, b1 = b1, a1 % b1 \n",
    "    return a1\n",
    "\n",
    "for _ in range(t) :\n",
    "    a, b = tuple(map(int, sys.stdin.readline().split()))\n",
    "    \n",
    "    # lcm은 a와 b를 곱한 수를 gcd(최소공배수)로 나눠준 것이다.\n",
    "    print(a * b // gcd(a, b))\n"
   ]
  },
  {
   "cell_type": "markdown",
   "id": "06b88932",
   "metadata": {},
   "source": [
    "# 유클리드 호제법을 모를 때 구하는 방법\n",
    "#### 앞 문제에서는 시간 초과에 걸리지 않았던 반면, \n",
    "#### 위 문제는 1<=T<=1,000인 조건에 따라 시간 초과에 걸렸다 \n",
    "#### gcd, lcm은 유클리드 호제법을 이용하여 푸는 방식이 좋을 것 같다."
   ]
  },
  {
   "cell_type": "code",
   "execution_count": null,
   "id": "aa7dddca",
   "metadata": {},
   "outputs": [],
   "source": [
    "import sys \n",
    "t = int(sys.stdin.readline())\n",
    "\n",
    "for _ in range(t) :\n",
    "    a, b = tuple(map(int, sys.stdin.readline().split()))    \n",
    "\n",
    "    lst = []\n",
    "    cnt_num = min(a, b)\n",
    "    \n",
    "    i = 2\n",
    "    while i <= cnt_num :\n",
    "        if a % i == 0 and b % i == 0 : \n",
    "            lst.append(i)\n",
    "            a, b = a//i, b//i \n",
    "        \n",
    "        else :\n",
    "            i += 1\n",
    "    \n",
    "    res = 1\n",
    "    if lst :\n",
    "        for elem in lst :\n",
    "            res *= elem \n",
    "    res = res * a * b\n",
    "    print(res)"
   ]
  }
 ],
 "metadata": {
  "kernelspec": {
   "display_name": "Python 3",
   "language": "python",
   "name": "python3"
  },
  "language_info": {
   "codemirror_mode": {
    "name": "ipython",
    "version": 3
   },
   "file_extension": ".py",
   "mimetype": "text/x-python",
   "name": "python",
   "nbconvert_exporter": "python",
   "pygments_lexer": "ipython3",
   "version": "3.8.8"
  }
 },
 "nbformat": 4,
 "nbformat_minor": 5
}
