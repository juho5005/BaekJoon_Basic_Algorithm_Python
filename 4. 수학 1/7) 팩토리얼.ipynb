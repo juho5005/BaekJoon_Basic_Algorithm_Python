{
 "cells": [
  {
   "cell_type": "markdown",
   "id": "196286c1",
   "metadata": {},
   "source": [
    "# 재귀를 이용한 풀이 (Backtracking)"
   ]
  },
  {
   "cell_type": "code",
   "execution_count": null,
   "id": "f3ac105f",
   "metadata": {},
   "outputs": [],
   "source": [
    "import sys \n",
    "n = int(sys.stdin.readline())\n",
    "\n",
    "def facto(n) :\n",
    "    if n <= 1 :\n",
    "        return 1\n",
    "    else :\n",
    "        return facto(n-1) * n\n",
    "\n",
    "print(facto(n))"
   ]
  },
  {
   "cell_type": "markdown",
   "id": "ea8fa490",
   "metadata": {},
   "source": [
    "# DP를 이용하여 푼 방식 (Tabulation)"
   ]
  },
  {
   "cell_type": "code",
   "execution_count": null,
   "id": "ff657e13",
   "metadata": {},
   "outputs": [],
   "source": [
    "import sys \n",
    "n = int(sys.stdin.readline())\n",
    "\n",
    "facto = [\n",
    "    0\n",
    "    for _ in range(n+1)\n",
    "]\n",
    "\n",
    "facto[0] = 1\n",
    "\n",
    "for i in range(1, n+1) :\n",
    "    facto[i] = facto[i-1] * i\n",
    "\n",
    "print(facto[n])"
   ]
  },
  {
   "cell_type": "markdown",
   "id": "f9d4243d",
   "metadata": {},
   "source": [
    "# 반복문을 이용하여 푼 방식"
   ]
  },
  {
   "cell_type": "code",
   "execution_count": null,
   "id": "bf80db1d",
   "metadata": {},
   "outputs": [],
   "source": [
    "import sys \n",
    "n = int(sys.stdin.readline())\n",
    "\n",
    "if n == 0 :\n",
    "    print(1)\n",
    "else :\n",
    "    result = 1\n",
    "    for i in range(1, n+1) :\n",
    "        result *= i\n",
    "    print(result)"
   ]
  }
 ],
 "metadata": {
  "kernelspec": {
   "display_name": "Python 3",
   "language": "python",
   "name": "python3"
  },
  "language_info": {
   "codemirror_mode": {
    "name": "ipython",
    "version": 3
   },
   "file_extension": ".py",
   "mimetype": "text/x-python",
   "name": "python",
   "nbconvert_exporter": "python",
   "pygments_lexer": "ipython3",
   "version": "3.8.8"
  }
 },
 "nbformat": 4,
 "nbformat_minor": 5
}
