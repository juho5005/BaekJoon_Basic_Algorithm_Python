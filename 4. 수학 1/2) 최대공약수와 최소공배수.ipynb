{
 "cells": [
  {
   "cell_type": "markdown",
   "id": "7a142d95",
   "metadata": {},
   "source": [
    "문제 풀이 개념 정리 : https://www.notion.so/gcd-lcm-95e3dac050dc480797f7f0b30325effa"
   ]
  },
  {
   "cell_type": "markdown",
   "id": "1848e9de",
   "metadata": {},
   "source": [
    "# 유클리드 호제법을 모른다고 했을때\n",
    "# 일일이 풀이한 풀이법"
   ]
  },
  {
   "cell_type": "code",
   "execution_count": null,
   "id": "24631cef",
   "metadata": {},
   "outputs": [],
   "source": [
    "# 최대공약수와 최소공배수\n",
    "\n",
    "# 두 개의 자연수를 입력받아 최대 공약수와 최소 공배수를 출력하시오.\n",
    "import sys\n",
    "INT_MAX = sys.maxsize \n",
    "a, b = tuple(map(int, sys.stdin.readline().split()))\n",
    "\n",
    "# 1 <= a,b <= 10,000\n",
    "def gcd(a, b) :\n",
    "    min_val = min(a,b)\n",
    "\n",
    "    gcd_val = -INT_MAX\n",
    "    for i in range(1, min_val+1) :\n",
    "        if a % i == 0 and b % i == 0 :\n",
    "            gcd_val = i\n",
    "    return gcd_val \n",
    "\n",
    "def lcm(a, b) :\n",
    "    a_val = a \n",
    "    b_val = b\n",
    "\n",
    "    lst = []\n",
    "    min_val = min(a_val,b_val)\n",
    "    \n",
    "    i = 2\n",
    "    while i <= min_val :\n",
    "        if a_val % i == 0 and b_val % i == 0  :\n",
    "            a_val = a_val // i\n",
    "            b_val = b_val // i\n",
    "            lst.append(i)\n",
    "        else :\n",
    "            i += 1\n",
    "    \n",
    "    res = 1\n",
    "    for elem in lst :\n",
    "        res *= elem \n",
    "    res = res * a_val * b_val    \n",
    "    return res\n",
    "\n",
    "print(gcd(a, b))\n",
    "print(lcm(a, b))"
   ]
  },
  {
   "cell_type": "markdown",
   "id": "b28d0f0e",
   "metadata": {},
   "source": [
    "# 유클리드 호제법 math 모듈을 사용했을 때\n",
    "### => 간단하게 풀이 가능하다\n",
    "### gcd(greatest common denominator)\n",
    "### lcm(least common multiple) \n",
    "### gcd(최대공약수), lcm(최소공배수) 용어를 기억해야 한다."
   ]
  },
  {
   "cell_type": "code",
   "execution_count": null,
   "id": "7c6eb636",
   "metadata": {},
   "outputs": [],
   "source": [
    "# 최대공약수(gcd)와 최소공배수(lcm)\n",
    "\n",
    "import sys \n",
    "import math\n",
    "\n",
    "a, b = tuple(map(int, sys.stdin.readline().split()))\n",
    "\n",
    "print(math.gcd(a, b))\n",
    "print(math.lcm(a, b))"
   ]
  },
  {
   "cell_type": "markdown",
   "id": "d7772f10",
   "metadata": {},
   "source": [
    "# 유클리드 호제법 알고리즘을 이용했을 때"
   ]
  },
  {
   "cell_type": "code",
   "execution_count": null,
   "id": "1630c45f",
   "metadata": {},
   "outputs": [],
   "source": [
    "# 최대공약수(gcd)와 최소공배수(lcm)\n",
    "\n",
    "import sys \n",
    "import math\n",
    "\n",
    "a, b = tuple(map(int, sys.stdin.readline().split()))\n",
    "\n",
    "def gcd(a, b) :\n",
    "    while b > 0 : \n",
    "        a, b = b, a % b\n",
    "    \n",
    "    return a\n",
    "\n",
    "def lcm(a, b) :\n",
    "    return a * b // gcd(a,b)\n",
    "\n",
    "print(gcd(a, b))\n",
    "print(lcm(a, b))"
   ]
  }
 ],
 "metadata": {
  "kernelspec": {
   "display_name": "Python 3",
   "language": "python",
   "name": "python3"
  },
  "language_info": {
   "codemirror_mode": {
    "name": "ipython",
    "version": 3
   },
   "file_extension": ".py",
   "mimetype": "text/x-python",
   "name": "python",
   "nbconvert_exporter": "python",
   "pygments_lexer": "ipython3",
   "version": "3.8.8"
  }
 },
 "nbformat": 4,
 "nbformat_minor": 5
}
