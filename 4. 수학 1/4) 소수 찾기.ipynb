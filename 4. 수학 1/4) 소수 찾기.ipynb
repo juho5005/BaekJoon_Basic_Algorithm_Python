{
 "cells": [
  {
   "cell_type": "markdown",
   "id": "da15710a",
   "metadata": {},
   "source": [
    "# \"1\"이라는 수를 처리하는 것을 신경쓰면 된다."
   ]
  },
  {
   "cell_type": "code",
   "execution_count": null,
   "id": "20ab42ed",
   "metadata": {},
   "outputs": [],
   "source": [
    "# 소수 찾기\n",
    "import sys \n",
    "n = int(sys.stdin.readline()) # 1<=N<=100, O(N^4)\n",
    "nums = list(map(int, sys.stdin.readline().split()))\n",
    "\n",
    "# 소수의 개수 출력\n",
    "prime_num_cnt = 0\n",
    "\n",
    "for elem in nums :\n",
    "    counting = True\n",
    "\n",
    "    # 예외 적용\n",
    "    if elem == 1 :\n",
    "        continue # 1은 소수가 될 수 없다.\n",
    "\n",
    "    for i in range(2, elem) :\n",
    "        if elem % i == 0 :\n",
    "            counting = False \n",
    "            break\n",
    "\n",
    "    if counting : \n",
    "        prime_num_cnt += 1\n",
    "\n",
    "print(prime_num_cnt)    "
   ]
  }
 ],
 "metadata": {
  "kernelspec": {
   "display_name": "Python 3",
   "language": "python",
   "name": "python3"
  },
  "language_info": {
   "codemirror_mode": {
    "name": "ipython",
    "version": 3
   },
   "file_extension": ".py",
   "mimetype": "text/x-python",
   "name": "python",
   "nbconvert_exporter": "python",
   "pygments_lexer": "ipython3",
   "version": "3.8.8"
  }
 },
 "nbformat": 4,
 "nbformat_minor": 5
}
