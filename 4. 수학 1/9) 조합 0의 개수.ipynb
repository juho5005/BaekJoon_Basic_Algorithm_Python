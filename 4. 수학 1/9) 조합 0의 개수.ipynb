{
 "cells": [
  {
   "cell_type": "markdown",
   "id": "173e00b8",
   "metadata": {},
   "source": [
    "문제 풀이 : https://www.notion.so/2004-0-8612cdf441c542d1958347db99756819"
   ]
  },
  {
   "cell_type": "markdown",
   "id": "e54bf684",
   "metadata": {},
   "source": [
    "nCr에서 팩토리얼을 사용해서, 수학의 지수법칙을 생각하여 2와 5의 개수를 세주는 방식\n",
    " 앞의 \"팩토리얼 0의 개수\" 문제와 유사하다."
   ]
  },
  {
   "cell_type": "code",
   "execution_count": null,
   "id": "b5eaa787",
   "metadata": {},
   "outputs": [],
   "source": [
    "import sys \n",
    "n, m = tuple(map(int, sys.stdin.readline().split()))\n",
    "\n",
    "def five(num) :\n",
    "    ans = 0 \n",
    "    while num != 0 :\n",
    "        num //= 5 \n",
    "        ans += num \n",
    "    return ans \n",
    "\n",
    "def two(num) :\n",
    "    ans = 0\n",
    "    while num != 0 :\n",
    "        num //= 2\n",
    "        ans += num\n",
    "    return ans \n",
    "\n",
    "print(min((five(n) - five(m) - five(n-m)), \\\n",
    "    two(n) - two(m) - two(n-m)))"
   ]
  }
 ],
 "metadata": {
  "kernelspec": {
   "display_name": "Python 3",
   "language": "python",
   "name": "python3"
  },
  "language_info": {
   "codemirror_mode": {
    "name": "ipython",
    "version": 3
   },
   "file_extension": ".py",
   "mimetype": "text/x-python",
   "name": "python",
   "nbconvert_exporter": "python",
   "pygments_lexer": "ipython3",
   "version": "3.8.8"
  }
 },
 "nbformat": 4,
 "nbformat_minor": 5
}
